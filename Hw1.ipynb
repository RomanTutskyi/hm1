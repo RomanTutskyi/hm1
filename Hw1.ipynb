{
 "cells": [
  {
   "cell_type": "code",
   "execution_count": 14,
   "metadata": {},
   "outputs": [
    {
     "name": "stdout",
     "output_type": "stream",
     "text": [
      "вектор з першими 10 натуральними числами - [ 1  2  3  4  5  6  7  8  9 10]\n",
      "Матриця ролзміром 3х3 , що складається з нулів - [[0 0 0]\n",
      " [0 0 0]\n",
      " [0 0 0]]\n",
      "Матриця розміром 5х5 з випадковими числами від 1 до 10  - [[ 9  8  5  3  1]\n",
      " [ 3 10  3  7  6]\n",
      " [ 5  5  9  7  2]\n",
      " [ 2  4  2  1 10]\n",
      " [ 8  3  4  8  8]]\n",
      "Матриця розміром 4х4 з випадковим 0-1 - [[1 0 1 1]\n",
      " [0 1 1 0]\n",
      " [0 1 1 0]\n",
      " [0 1 0 1]]\n",
      "Вектори - [5 2 5 3 1] , [9 2 7 6 8] Результат додавання - [14  4 12  9  9], результат віднімання - [-4  0 -2 -3 -7] , результат множення [45  4 35 18  8]\n",
      "Скалярний добуток векторів [0.38360761 0.23030987 0.68358525 0.45293936 0.84271221 0.9915021\n",
      " 0.85446348] , i [0.99851566 0.24001608 0.3387018  0.03070179 0.96705376 0.15792228\n",
      " 0.11310638] - 1.75192744315822\n",
      "Результат множення матриць [[0.36568055 0.1182086 ]\n",
      " [0.64589301 0.18010691]] , i [[0.73136807 0.1083948  0.61207778]\n",
      " [0.54173407 0.55655827 0.29784684]] - [[0.3314847  0.10542784 0.25903299]\n",
      " [0.56995557 0.17025144 0.44898104]]\n",
      "Обернена матриця до [[ 9  7  4]\n",
      " [ 4  1  9]\n",
      " [ 8  2 10]] - [[-0.05263158 -0.40789474  0.38815789]\n",
      " [ 0.21052632  0.38157895 -0.42763158]\n",
      " [ 0.          0.25       -0.125     ]]\n",
      "транспортована матриця до [[ 9  7  5  4]\n",
      " [ 3  4 10  3]\n",
      " [ 5  6  4  4]\n",
      " [ 4  7  4  8]] - [[ 9  3  5  4]\n",
      " [ 7  4  6  7]\n",
      " [ 5 10  4  4]\n",
      " [ 4  3  4  8]]\n"
     ]
    }
   ],
   "source": [
    "import numpy as np\n",
    "vek = np.arange(1,11)\n",
    "print(f'вектор з першими 10 натуральними числами - {vek}')\n",
    "m = np.zeros((3,3), dtype=int)\n",
    "print(f'Матриця ролзміром 3х3 , що складається з нулів - {m}')\n",
    "mrx = np.random.randint(1,11, size=(5, 5))\n",
    "print(f'Матриця розміром 5х5 з випадковими числами від 1 до 10  - {mrx}')\n",
    "mtrx = np.random.randint(0,2, size=(4, 4))\n",
    "print(f'Матриця розміром 4х4 з випадковим 0-1 - {mtrx}')\n",
    "array1 = np.random.randint(1,11, size=(5))\n",
    "array2 = np.random.randint(1,11, size=(5))\n",
    "\n",
    "plus = array1 + array2 \n",
    "minus = array1 - array2\n",
    "multi = array1 * array2\n",
    "\n",
    "print(f'Вектори - {array1} , {array2} Результат додавання - {plus}, результат віднімання - {minus} , результат множення {multi}')\n",
    "ary1 = np.random.random(size=(7))\n",
    "ary2 = np.random.random(size=(7))\n",
    "\n",
    "mul = np.dot(ary1 , ary2) \n",
    "print(f'Скалярний добуток векторів {ary1} , i {ary2} - {mul}')\n",
    "mrx1 = np.random.random(size=(2,2))\n",
    "mrx2 = np.random.random(size=(2,3))\n",
    "\n",
    "multiply = np.dot(mrx1,mrx2)\n",
    "print(f'Результат множення матриць {mrx1} , i {mrx2} - {multiply}')\n",
    "\n",
    "matrix = np.random.randint(1,11, size=(3,3))\n",
    "\n",
    "matrix_inv = np.linalg.inv(matrix)\n",
    "print(f'Обернена матриця до {matrix} - {matrix_inv}')\n",
    "bef = np.random.randint(1,11, size=(4,4))\n",
    "\n",
    "transp = bef.T\n",
    "print(f'транспортована матриця до {bef} - {transp}')\n"
   ]
  }
 ],
 "metadata": {
  "kernelspec": {
   "display_name": "Python 3",
   "language": "python",
   "name": "python3"
  },
  "language_info": {
   "codemirror_mode": {
    "name": "ipython",
    "version": 3
   },
   "file_extension": ".py",
   "mimetype": "text/x-python",
   "name": "python",
   "nbconvert_exporter": "python",
   "pygments_lexer": "ipython3",
   "version": "3.11.4"
  },
  "orig_nbformat": 4
 },
 "nbformat": 4,
 "nbformat_minor": 2
}
